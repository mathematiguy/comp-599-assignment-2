{
 "cells": [
  {
   "cell_type": "markdown",
   "id": "b38c6a6c-40ae-4914-a49b-53d7fac876d8",
   "metadata": {},
   "source": [
    "## Gender Bias TSNE Plot\n",
    "\n",
    "This completes question 3.2.3 of the assignment."
   ]
  },
  {
   "cell_type": "code",
   "execution_count": 1,
   "id": "926fef64-2933-48c7-8fff-a7d386038c6d",
   "metadata": {},
   "outputs": [],
   "source": [
    "from code import *\n",
    "import pandas as pd\n",
    "import matplotlib.pyplot as plt\n",
    "from sklearn.manifold import TSNE"
   ]
  },
  {
   "cell_type": "code",
   "execution_count": 2,
   "id": "afa9b43a-2353-4939-a8c2-7f172503d85d",
   "metadata": {},
   "outputs": [],
   "source": [
    "tsne = TSNE(n_components=2, random_state=0, perplexity=3, init='random', learning_rate='auto')"
   ]
  },
  {
   "cell_type": "markdown",
   "id": "30f4fe5a-376b-4847-bd4d-02d34757c410",
   "metadata": {},
   "source": [
    "### Setup"
   ]
  },
  {
   "cell_type": "code",
   "execution_count": 3,
   "id": "2a7fa57d-a739-4978-ae76-96422dad73cd",
   "metadata": {},
   "outputs": [
    {
     "name": "stdout",
     "output_type": "stream",
     "text": [
      "Loading glove embeddings...\n",
      "Loading professions...\n",
      "Loading gender attribute_words...\n"
     ]
    }
   ],
   "source": [
    "# Prefilled code showing you how to use the helper functions\n",
    "print(\"Loading glove embeddings...\")\n",
    "word_to_embedding = load_glove_embeddings(\"data/glove/glove.6B.300d.txt\")\n",
    "\n",
    "print(\"Loading professions...\")\n",
    "professions = load_professions(\"data/professions.tsv\")\n",
    "\n",
    "print(\"Loading gender attribute_words...\")\n",
    "gender_attribute_words = load_gender_attribute_words(\n",
    "    \"data/gender_attribute_words.json\"\n",
    ")"
   ]
  },
  {
   "cell_type": "code",
   "execution_count": 4,
   "id": "50b1258e-5a6e-443e-9c40-fd38806ff0e2",
   "metadata": {},
   "outputs": [],
   "source": [
    "# === Section 2.1 ===\n",
    "gender_subspace = compute_gender_subspace(\n",
    "    word_to_embedding, gender_attribute_words=[[\"man\", \"woman\"], [\"boy\", \"girl\"]]\n",
    ").flatten()"
   ]
  },
  {
   "cell_type": "code",
   "execution_count": 5,
   "id": "48e85239-2d36-4380-b987-e431c9dd70fa",
   "metadata": {},
   "outputs": [],
   "source": [
    "# === Section 2.2 ===\n",
    "a = word_to_embedding[\"doctor\"]\n",
    "b = word_to_embedding[\"nurse\"]\n",
    "scalar_projection, vector_projection = project(a, gender_subspace)"
   ]
  },
  {
   "cell_type": "code",
   "execution_count": 6,
   "id": "869e5e53-924c-421c-91c7-3c72c51885b9",
   "metadata": {},
   "outputs": [],
   "source": [
    "# === Section 2.3 ===\n",
    "profession_to_embedding = compute_profession_embeddings(\n",
    "    word_to_embedding, professions\n",
    ")"
   ]
  },
  {
   "cell_type": "code",
   "execution_count": 7,
   "id": "dc908a38-c7a8-4a13-b7d1-79db8d64a0bf",
   "metadata": {},
   "outputs": [
    {
     "name": "stdout",
     "output_type": "stream",
     "text": [
      "Max profession words: ['dietitian', 'receptionist', 'salesperson', 'housekeeper', 'registered nurse', 'vocational nurse', 'childcare worker', 'hairdresser', 'paralegal', 'dental hygienist']\n",
      "Min profession words: ['security system installer', 'operating engineer', 'mobile equipment mechanic', 'conductor', 'crossing guard', 'mining machine operator', 'lodging manager', 'repairer', 'bus mechanic', 'heating mechanic']\n"
     ]
    }
   ],
   "source": [
    "# === Section 2.4 ===\n",
    "max_words = compute_extreme_words(\n",
    "    professions, word_to_embedding, gender_subspace, k=10, max_=True\n",
    ")\n",
    "min_words = compute_extreme_words(\n",
    "    professions, word_to_embedding, gender_subspace, k=10, max_=False\n",
    ")\n",
    "\n",
    "print(f\"Max profession words: {max_words}\")\n",
    "print(f\"Min profession words: {min_words}\")"
   ]
  },
  {
   "cell_type": "code",
   "execution_count": 8,
   "id": "64f51ffd-00a8-4b05-bf42-3b1ef340138d",
   "metadata": {},
   "outputs": [],
   "source": [
    "max_embeddings = [profession_to_embedding[word] for word in max_words]\n",
    "min_embeddings = [profession_to_embedding[word] for word in min_words]"
   ]
  },
  {
   "cell_type": "code",
   "execution_count": 13,
   "id": "d480f936-5612-48da-9c66-11ed6cea024d",
   "metadata": {},
   "outputs": [
    {
     "data": {
      "text/plain": [
       "array([[-0.24702  ,  0.24949  , -0.15179  , ...,  0.33809  , -0.079118 ,\n",
       "        -0.1285   ],\n",
       "       [-0.46467  ,  0.27978  ,  0.14415  , ...,  0.059517 , -0.38888  ,\n",
       "         0.82876  ],\n",
       "       [-0.71178  ,  0.71026  ,  0.09052  , ...,  0.84015  ,  0.2412   ,\n",
       "         0.29787  ],\n",
       "       ...,\n",
       "       [ 0.3878   ,  0.11285  , -0.22912  , ...,  0.53522  ,  0.079185 ,\n",
       "        -0.11112  ],\n",
       "       [ 0.268425 , -0.2183   ,  0.036925 , ..., -0.19445  , -0.056995 ,\n",
       "         0.440305 ],\n",
       "       [ 0.473415 ,  0.01676  , -0.0349775, ..., -0.49576  , -0.401525 ,\n",
       "         0.56272  ]])"
      ]
     },
     "execution_count": 13,
     "metadata": {},
     "output_type": "execute_result"
    }
   ],
   "source": [
    "X = np.vstack([max_embeddings, min_embeddings])\n",
    "X"
   ]
  },
  {
   "cell_type": "code",
   "execution_count": 14,
   "id": "53222a16-472a-4f86-9eea-e0e2bfa55ae6",
   "metadata": {},
   "outputs": [
    {
     "data": {
      "text/plain": [
       "array([[  98.08771 ,  -11.379325],\n",
       "       [  53.321194,   83.49068 ],\n",
       "       [  77.15585 ,   99.60189 ],\n",
       "       [  38.84121 ,   58.733517],\n",
       "       [  95.34639 ,   14.526352],\n",
       "       [  95.40329 ,   33.21109 ],\n",
       "       [  76.36173 ,   50.070362],\n",
       "       [  32.180008,   90.602684],\n",
       "       [  44.07222 ,  124.0232  ],\n",
       "       [ 121.542496,   44.854485],\n",
       "       [ -45.427086, -130.61368 ],\n",
       "       [ -77.19936 , -128.64453 ],\n",
       "       [ -65.123856, -109.17071 ],\n",
       "       [ -84.57336 , -157.25047 ],\n",
       "       [-120.3595  , -124.72593 ],\n",
       "       [ -83.44449 , -100.70241 ],\n",
       "       [ -77.88478 ,  -65.58553 ],\n",
       "       [ -22.35925 , -146.37653 ],\n",
       "       [ -44.121483,  -89.99364 ],\n",
       "       [ -20.339025,  -84.865524]], dtype=float32)"
      ]
     },
     "execution_count": 14,
     "metadata": {},
     "output_type": "execute_result"
    }
   ],
   "source": [
    "max_tsne = tsne.fit_transform(X)\n",
    "max_tsne"
   ]
  },
  {
   "cell_type": "code",
   "execution_count": 32,
   "id": "93b25826-7db3-4eb6-95ae-846add4dd699",
   "metadata": {},
   "outputs": [
    {
     "data": {
      "text/html": [
       "<div>\n",
       "<style scoped>\n",
       "    .dataframe tbody tr th:only-of-type {\n",
       "        vertical-align: middle;\n",
       "    }\n",
       "\n",
       "    .dataframe tbody tr th {\n",
       "        vertical-align: top;\n",
       "    }\n",
       "\n",
       "    .dataframe thead th {\n",
       "        text-align: right;\n",
       "    }\n",
       "</style>\n",
       "<table border=\"1\" class=\"dataframe\">\n",
       "  <thead>\n",
       "    <tr style=\"text-align: right;\">\n",
       "      <th></th>\n",
       "      <th>profession</th>\n",
       "      <th>x</th>\n",
       "      <th>y</th>\n",
       "      <th>type</th>\n",
       "    </tr>\n",
       "  </thead>\n",
       "  <tbody>\n",
       "    <tr>\n",
       "      <th>0</th>\n",
       "      <td>dietitian</td>\n",
       "      <td>98.087708</td>\n",
       "      <td>-11.379325</td>\n",
       "      <td>max</td>\n",
       "    </tr>\n",
       "    <tr>\n",
       "      <th>1</th>\n",
       "      <td>receptionist</td>\n",
       "      <td>53.321194</td>\n",
       "      <td>83.490677</td>\n",
       "      <td>max</td>\n",
       "    </tr>\n",
       "    <tr>\n",
       "      <th>2</th>\n",
       "      <td>salesperson</td>\n",
       "      <td>77.155853</td>\n",
       "      <td>99.601891</td>\n",
       "      <td>max</td>\n",
       "    </tr>\n",
       "    <tr>\n",
       "      <th>3</th>\n",
       "      <td>housekeeper</td>\n",
       "      <td>38.841209</td>\n",
       "      <td>58.733517</td>\n",
       "      <td>max</td>\n",
       "    </tr>\n",
       "    <tr>\n",
       "      <th>4</th>\n",
       "      <td>registered nurse</td>\n",
       "      <td>95.346390</td>\n",
       "      <td>14.526352</td>\n",
       "      <td>max</td>\n",
       "    </tr>\n",
       "    <tr>\n",
       "      <th>5</th>\n",
       "      <td>vocational nurse</td>\n",
       "      <td>95.403290</td>\n",
       "      <td>33.211090</td>\n",
       "      <td>max</td>\n",
       "    </tr>\n",
       "    <tr>\n",
       "      <th>6</th>\n",
       "      <td>childcare worker</td>\n",
       "      <td>76.361732</td>\n",
       "      <td>50.070362</td>\n",
       "      <td>max</td>\n",
       "    </tr>\n",
       "    <tr>\n",
       "      <th>7</th>\n",
       "      <td>hairdresser</td>\n",
       "      <td>32.180008</td>\n",
       "      <td>90.602684</td>\n",
       "      <td>max</td>\n",
       "    </tr>\n",
       "    <tr>\n",
       "      <th>8</th>\n",
       "      <td>paralegal</td>\n",
       "      <td>44.072220</td>\n",
       "      <td>124.023201</td>\n",
       "      <td>max</td>\n",
       "    </tr>\n",
       "    <tr>\n",
       "      <th>9</th>\n",
       "      <td>dental hygienist</td>\n",
       "      <td>121.542496</td>\n",
       "      <td>44.854485</td>\n",
       "      <td>max</td>\n",
       "    </tr>\n",
       "    <tr>\n",
       "      <th>10</th>\n",
       "      <td>security system installer</td>\n",
       "      <td>-45.427086</td>\n",
       "      <td>-130.613678</td>\n",
       "      <td>min</td>\n",
       "    </tr>\n",
       "    <tr>\n",
       "      <th>11</th>\n",
       "      <td>operating engineer</td>\n",
       "      <td>-77.199364</td>\n",
       "      <td>-128.644531</td>\n",
       "      <td>min</td>\n",
       "    </tr>\n",
       "    <tr>\n",
       "      <th>12</th>\n",
       "      <td>mobile equipment mechanic</td>\n",
       "      <td>-65.123856</td>\n",
       "      <td>-109.170708</td>\n",
       "      <td>min</td>\n",
       "    </tr>\n",
       "    <tr>\n",
       "      <th>13</th>\n",
       "      <td>conductor</td>\n",
       "      <td>-84.573357</td>\n",
       "      <td>-157.250473</td>\n",
       "      <td>min</td>\n",
       "    </tr>\n",
       "    <tr>\n",
       "      <th>14</th>\n",
       "      <td>crossing guard</td>\n",
       "      <td>-120.359497</td>\n",
       "      <td>-124.725929</td>\n",
       "      <td>min</td>\n",
       "    </tr>\n",
       "    <tr>\n",
       "      <th>15</th>\n",
       "      <td>mining machine operator</td>\n",
       "      <td>-83.444489</td>\n",
       "      <td>-100.702408</td>\n",
       "      <td>min</td>\n",
       "    </tr>\n",
       "    <tr>\n",
       "      <th>16</th>\n",
       "      <td>lodging manager</td>\n",
       "      <td>-77.884781</td>\n",
       "      <td>-65.585533</td>\n",
       "      <td>min</td>\n",
       "    </tr>\n",
       "    <tr>\n",
       "      <th>17</th>\n",
       "      <td>repairer</td>\n",
       "      <td>-22.359249</td>\n",
       "      <td>-146.376526</td>\n",
       "      <td>min</td>\n",
       "    </tr>\n",
       "    <tr>\n",
       "      <th>18</th>\n",
       "      <td>bus mechanic</td>\n",
       "      <td>-44.121483</td>\n",
       "      <td>-89.993637</td>\n",
       "      <td>min</td>\n",
       "    </tr>\n",
       "    <tr>\n",
       "      <th>19</th>\n",
       "      <td>heating mechanic</td>\n",
       "      <td>-20.339025</td>\n",
       "      <td>-84.865524</td>\n",
       "      <td>min</td>\n",
       "    </tr>\n",
       "  </tbody>\n",
       "</table>\n",
       "</div>"
      ],
      "text/plain": [
       "                   profession           x           y type\n",
       "0                   dietitian   98.087708  -11.379325  max\n",
       "1                receptionist   53.321194   83.490677  max\n",
       "2                 salesperson   77.155853   99.601891  max\n",
       "3                 housekeeper   38.841209   58.733517  max\n",
       "4            registered nurse   95.346390   14.526352  max\n",
       "5            vocational nurse   95.403290   33.211090  max\n",
       "6            childcare worker   76.361732   50.070362  max\n",
       "7                 hairdresser   32.180008   90.602684  max\n",
       "8                   paralegal   44.072220  124.023201  max\n",
       "9            dental hygienist  121.542496   44.854485  max\n",
       "10  security system installer  -45.427086 -130.613678  min\n",
       "11         operating engineer  -77.199364 -128.644531  min\n",
       "12  mobile equipment mechanic  -65.123856 -109.170708  min\n",
       "13                  conductor  -84.573357 -157.250473  min\n",
       "14             crossing guard -120.359497 -124.725929  min\n",
       "15    mining machine operator  -83.444489 -100.702408  min\n",
       "16            lodging manager  -77.884781  -65.585533  min\n",
       "17                   repairer  -22.359249 -146.376526  min\n",
       "18               bus mechanic  -44.121483  -89.993637  min\n",
       "19           heating mechanic  -20.339025  -84.865524  min"
      ]
     },
     "execution_count": 32,
     "metadata": {},
     "output_type": "execute_result"
    }
   ],
   "source": [
    "profession_df = pd.DataFrame({'profession': max_words + min_words, 'x': max_tsne[:,0], 'y': max_tsne[:,1], 'type': ['max'] * 10 + ['min'] * 10})\n",
    "profession_df"
   ]
  },
  {
   "cell_type": "code",
   "execution_count": 37,
   "id": "6511ce35-510b-416f-a34e-44e3f3deae5d",
   "metadata": {},
   "outputs": [
    {
     "data": {
      "image/png": "[encoded data removed]",
      "text/plain": [
       "<Figure size 640x480 with 1 Axes>"
      ]
     },
     "metadata": {},
     "output_type": "display_data"
    }
   ],
   "source": [
    "fig, ax = plt.subplots()\n",
    "profession_df.plot(kind='scatter', x='x', y='y', c=profession_df.type.map({'max': 'blue', 'min': 'red'}), ax=ax)\n",
    "\n",
    "for i, row in profession_df.iterrows():\n",
    "    ax.text(row['x'], row['y'], row['profession'])"
   ]
  }
 ],
 "metadata": {
  "kernelspec": {
   "display_name": "Python 3 (ipykernel)",
   "language": "python",
   "name": "python3"
  },
  "language_info": {
   "codemirror_mode": {
    "name": "ipython",
    "version": 3
   },
   "file_extension": ".py",
   "mimetype": "text/x-python",
   "name": "python",
   "nbconvert_exporter": "python",
   "pygments_lexer": "ipython3",
   "version": "3.9.14"
  }
 },
 "nbformat": 4,
 "nbformat_minor": 5
}
